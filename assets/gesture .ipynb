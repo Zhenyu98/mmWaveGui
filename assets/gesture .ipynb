{
 "cells": [
  {
   "cell_type": "code",
   "execution_count": 1,
   "id": "5b3cca41",
   "metadata": {
    "_cell_guid": "b1076dfc-b9ad-4769-8c92-a6c4dae69d19",
    "_uuid": "8f2839f25d086af736a60e9eeb907d3b93b6e0e5",
    "execution": {
     "iopub.execute_input": "2024-04-29T09:02:03.300784Z",
     "iopub.status.busy": "2024-04-29T09:02:03.300357Z",
     "iopub.status.idle": "2024-04-29T09:02:03.992361Z",
     "shell.execute_reply": "2024-04-29T09:02:03.991417Z"
    },
    "papermill": {
     "duration": 0.699533,
     "end_time": "2024-04-29T09:02:03.994789",
     "exception": false,
     "start_time": "2024-04-29T09:02:03.295256",
     "status": "completed"
    },
    "tags": []
   },
   "outputs": [],
   "source": [
    "# This Python 3 environment comes with many helpful analytics libraries installed\n",
    "# It is defined by the kaggle/python Docker image: https://github.com/kaggle/docker-python\n",
    "# For example, here's several helpful packages to load\n",
    "\n",
    "import numpy as np # linear algebra\n",
    "import pandas as pd # data processing, CSV file I/O (e.g. pd.read_csv)\n",
    "\n",
    "# Input data files are available in the read-only \"../input/\" directory\n",
    "# For example, running this (by clicking run or pressing Shift+Enter) will list all files under the input directory\n",
    "\n",
    "# import os\n",
    "# for dirname, _, filenames in os.walk('/kaggle/input'):\n",
    "#     for filename in filenames:\n",
    "#         print(os.path.join(dirname, filename))\n",
    "\n",
    "# You can write up to 20GB to the current directory (/kaggle/working/) that gets preserved as output when you create a version using \"Save & Run All\" \n",
    "# You can also write temporary files to /kaggle/temp/, but they won't be saved outside of the current session"
   ]
  },
  {
   "cell_type": "code",
   "execution_count": 2,
   "id": "baeafc03",
   "metadata": {
    "execution": {
     "iopub.execute_input": "2024-04-29T09:02:04.002943Z",
     "iopub.status.busy": "2024-04-29T09:02:04.002496Z",
     "iopub.status.idle": "2024-04-29T09:02:04.007631Z",
     "shell.execute_reply": "2024-04-29T09:02:04.006792Z"
    },
    "papermill": {
     "duration": 0.011169,
     "end_time": "2024-04-29T09:02:04.009566",
     "exception": false,
     "start_time": "2024-04-29T09:02:03.998397",
     "status": "completed"
    },
    "tags": []
   },
   "outputs": [],
   "source": [
    "import sys\n",
    "import os\n",
    "\n",
    "# 获取你的模型的路径\n",
    "# 请注意，你需要将 'dataset_name' 和 'file_name' 替换为你的实际数据集名称和文件名称\n",
    "model_path = '/kaggle/input/rope-informer/rope_informer'\n",
    "data_path = '/kaggle/input/totalgestures/dataTotal (1)(3).xlsx'\n",
    "\n",
    "checkpoints = '/kaggle/working/checkpoints/'\n",
    "output_path = '/kaggle/working/test_results/'\n",
    "\n",
    "# 将模型路径添加到sys.path\n",
    "sys.path.append(os.path.dirname(model_path))\n",
    "\n",
    "# 现在你可以导入你的模型了"
   ]
  },
  {
   "cell_type": "code",
   "execution_count": 3,
   "id": "6cfb2938",
   "metadata": {
    "execution": {
     "iopub.execute_input": "2024-04-29T09:02:04.016648Z",
     "iopub.status.busy": "2024-04-29T09:02:04.016404Z",
     "iopub.status.idle": "2024-04-29T09:02:04.020622Z",
     "shell.execute_reply": "2024-04-29T09:02:04.019827Z"
    },
    "papermill": {
     "duration": 0.010161,
     "end_time": "2024-04-29T09:02:04.022744",
     "exception": false,
     "start_time": "2024-04-29T09:02:04.012583",
     "status": "completed"
    },
    "tags": []
   },
   "outputs": [
    {
     "name": "stdout",
     "output_type": "stream",
     "text": [
      "['/kaggle/working', '/kaggle/lib/kagglegym', '/kaggle/lib', '/opt/conda/lib/python310.zip', '/opt/conda/lib/python3.10', '/opt/conda/lib/python3.10/lib-dynload', '', '/root/.local/lib/python3.10/site-packages', '/opt/conda/lib/python3.10/site-packages', '/root/src/BigQuery_Helper', '/kaggle/input/rope-informer']\n"
     ]
    }
   ],
   "source": [
    "print(sys.path)"
   ]
  },
  {
   "cell_type": "code",
   "execution_count": 4,
   "id": "25179299",
   "metadata": {
    "execution": {
     "iopub.execute_input": "2024-04-29T09:02:04.030497Z",
     "iopub.status.busy": "2024-04-29T09:02:04.030266Z",
     "iopub.status.idle": "2024-04-29T09:02:20.849308Z",
     "shell.execute_reply": "2024-04-29T09:02:20.848002Z"
    },
    "papermill": {
     "duration": 16.825129,
     "end_time": "2024-04-29T09:02:20.851339",
     "exception": false,
     "start_time": "2024-04-29T09:02:04.026210",
     "status": "completed"
    },
    "tags": []
   },
   "outputs": [
    {
     "name": "stdout",
     "output_type": "stream",
     "text": [
      "Collecting reformer_pytorch\r\n",
      "  Downloading reformer_pytorch-1.4.4-py3-none-any.whl.metadata (764 bytes)\r\n",
      "Collecting axial-positional-embedding>=0.1.0 (from reformer_pytorch)\r\n",
      "  Downloading axial_positional_embedding-0.2.1.tar.gz (2.6 kB)\r\n",
      "  Preparing metadata (setup.py) ... \u001b[?25l-\b \bdone\r\n",
      "\u001b[?25hCollecting einops (from reformer_pytorch)\r\n",
      "  Downloading einops-0.8.0-py3-none-any.whl.metadata (12 kB)\r\n",
      "Collecting local-attention (from reformer_pytorch)\r\n",
      "  Downloading local_attention-1.9.1-py3-none-any.whl.metadata (682 bytes)\r\n",
      "Collecting product-key-memory (from reformer_pytorch)\r\n",
      "  Downloading product_key_memory-0.2.10-py3-none-any.whl.metadata (717 bytes)\r\n",
      "Requirement already satisfied: torch in /opt/conda/lib/python3.10/site-packages (from reformer_pytorch) (2.1.2)\r\n",
      "Collecting colt5-attention>=0.10.14 (from product-key-memory->reformer_pytorch)\r\n",
      "  Downloading CoLT5_attention-0.10.20-py3-none-any.whl.metadata (738 bytes)\r\n",
      "Requirement already satisfied: filelock in /opt/conda/lib/python3.10/site-packages (from torch->reformer_pytorch) (3.13.1)\r\n",
      "Requirement already satisfied: typing-extensions in /opt/conda/lib/python3.10/site-packages (from torch->reformer_pytorch) (4.9.0)\r\n",
      "Requirement already satisfied: sympy in /opt/conda/lib/python3.10/site-packages (from torch->reformer_pytorch) (1.12)\r\n",
      "Requirement already satisfied: networkx in /opt/conda/lib/python3.10/site-packages (from torch->reformer_pytorch) (3.2.1)\r\n",
      "Requirement already satisfied: jinja2 in /opt/conda/lib/python3.10/site-packages (from torch->reformer_pytorch) (3.1.2)\r\n",
      "Requirement already satisfied: fsspec in /opt/conda/lib/python3.10/site-packages (from torch->reformer_pytorch) (2024.2.0)\r\n",
      "Requirement already satisfied: packaging in /opt/conda/lib/python3.10/site-packages (from colt5-attention>=0.10.14->product-key-memory->reformer_pytorch) (21.3)\r\n",
      "Requirement already satisfied: MarkupSafe>=2.0 in /opt/conda/lib/python3.10/site-packages (from jinja2->torch->reformer_pytorch) (2.1.3)\r\n",
      "Requirement already satisfied: mpmath>=0.19 in /opt/conda/lib/python3.10/site-packages (from sympy->torch->reformer_pytorch) (1.3.0)\r\n",
      "Requirement already satisfied: pyparsing!=3.0.5,>=2.0.2 in /opt/conda/lib/python3.10/site-packages (from packaging->colt5-attention>=0.10.14->product-key-memory->reformer_pytorch) (3.1.1)\r\n",
      "Downloading reformer_pytorch-1.4.4-py3-none-any.whl (16 kB)\r\n",
      "Downloading einops-0.8.0-py3-none-any.whl (43 kB)\r\n",
      "\u001b[2K   \u001b[90m━━━━━━━━━━━━━━━━━━━━━━━━━━━━━━━━━━━━━━━━\u001b[0m \u001b[32m43.2/43.2 kB\u001b[0m \u001b[31m1.5 MB/s\u001b[0m eta \u001b[36m0:00:00\u001b[0m\r\n",
      "\u001b[?25hDownloading local_attention-1.9.1-py3-none-any.whl (8.2 kB)\r\n",
      "Downloading product_key_memory-0.2.10-py3-none-any.whl (6.4 kB)\r\n",
      "Downloading CoLT5_attention-0.10.20-py3-none-any.whl (18 kB)\r\n",
      "Building wheels for collected packages: axial-positional-embedding\r\n",
      "  Building wheel for axial-positional-embedding (setup.py) ... \u001b[?25l-\b \b\\\b \bdone\r\n",
      "\u001b[?25h  Created wheel for axial-positional-embedding: filename=axial_positional_embedding-0.2.1-py3-none-any.whl size=2887 sha256=3d3e1676e057cd424cd5c98f50decfcd69c66995edb5e0edf70856f72462e984\r\n",
      "  Stored in directory: /root/.cache/pip/wheels/b1/cb/39/7ce7ff2d2fd37cfe1fe7b3a3c43cf410632b2ad3b3f3986d73\r\n",
      "Successfully built axial-positional-embedding\r\n",
      "Installing collected packages: einops, local-attention, axial-positional-embedding, colt5-attention, product-key-memory, reformer_pytorch\r\n",
      "Successfully installed axial-positional-embedding-0.2.1 colt5-attention-0.10.20 einops-0.8.0 local-attention-1.9.1 product-key-memory-0.2.10 reformer_pytorch-1.4.4\r\n",
      "Note: you may need to restart the kernel to use updated packages.\n"
     ]
    }
   ],
   "source": [
    "pip install reformer_pytorch"
   ]
  },
  {
   "cell_type": "code",
   "execution_count": 5,
   "id": "2bf8a84a",
   "metadata": {
    "execution": {
     "iopub.execute_input": "2024-04-29T09:02:20.863301Z",
     "iopub.status.busy": "2024-04-29T09:02:20.862989Z",
     "iopub.status.idle": "2024-04-29T09:02:25.415369Z",
     "shell.execute_reply": "2024-04-29T09:02:25.414561Z"
    },
    "papermill": {
     "duration": 4.561018,
     "end_time": "2024-04-29T09:02:25.417691",
     "exception": false,
     "start_time": "2024-04-29T09:02:20.856673",
     "status": "completed"
    },
    "tags": []
   },
   "outputs": [],
   "source": [
    "import torch\n",
    "import torch.nn as nn\n",
    "from torch.utils.data import Dataset, DataLoader\n",
    "from torch.nn import Transformer\n",
    "from torch.optim import Adam\n",
    "from sklearn.preprocessing import StandardScaler\n",
    "from tqdm import tqdm\n",
    "\n",
    "import matplotlib.pyplot as plt\n",
    "%matplotlib inline"
   ]
  },
  {
   "cell_type": "code",
   "execution_count": 6,
   "id": "15f447f1",
   "metadata": {
    "execution": {
     "iopub.execute_input": "2024-04-29T09:02:25.429903Z",
     "iopub.status.busy": "2024-04-29T09:02:25.429491Z",
     "iopub.status.idle": "2024-04-29T09:14:18.969650Z",
     "shell.execute_reply": "2024-04-29T09:14:18.968571Z"
    },
    "papermill": {
     "duration": 713.548606,
     "end_time": "2024-04-29T09:14:18.971645",
     "exception": false,
     "start_time": "2024-04-29T09:02:25.423039",
     "status": "completed"
    },
    "tags": []
   },
   "outputs": [
    {
     "name": "stdout",
     "output_type": "stream",
     "text": [
      "Args in experiment:\n",
      "Namespace(model='informer', data='Classification', root_path='/kaggle/input/totalgestures/dataTotal (1)(3).xlsx', enc_in=1, d_model=16, d_ff=64, train_epochs=8, batch_size=8, seq_len=15000, output_path='/kaggle/working/test_results/', checkpoints='/kaggle/working/checkpoints/', test_ratio=0.1, n_heads=4, has_rope=True, data_path='ETTh1.csv', features='M', target='OT', freq='h', label_len=48, pred_len=24, dec_in=1, c_out=7, e_layers=2, d_layers=1, s_layers='3,2,1', factor=5, padding=0, distil=True, dropout=0.05, attn='prob', embed='timeF', activation='gelu', output_attention=False, do_predict=False, mix=True, cols=None, num_workers=0, itr=1, patience=2, learning_rate=0.0001, des='test', loss='mse', lradj='type1', use_amp=False, inverse=False, use_gpu=True, gpu=0, use_multi_gpu=False, devices='0,1,2,3')\n",
      "Use GPU: cuda:0\n",
      ">>>>>>>start training : informer_Classification_ftM_sl15000_ll48_pl24_dm16_nh4_el2_dl1_df64_atprob_fc5_ebtimeF_dtTrue_mxTrue_test_1>>>>>>>>>>>>>>>>>>>>>>>>>>\n",
      "train 400\n",
      "val 50\n",
      "test 50\n",
      "Epoch: 1 cost time: 6.5725038051605225\n",
      "Epoch: 1, Steps: 50 | Train Loss: 1.755 Vali Loss: 1.527 Vali Acc: 0.542 Test Loss: 0.863 Test Acc: 0.750\n",
      "Validation loss decreased (inf --> -0.541667).  Saving model ...\n",
      "Epoch: 2 cost time: 5.158919334411621\n",
      "Epoch: 2, Steps: 50 | Train Loss: 0.564 Vali Loss: 0.838 Vali Acc: 0.854 Test Loss: 0.223 Test Acc: 0.917\n",
      "Validation loss decreased (-0.541667 --> -0.854167).  Saving model ...\n",
      "Epoch: 3 cost time: 5.187310218811035\n",
      "Epoch: 3, Steps: 50 | Train Loss: 0.224 Vali Loss: 0.554 Vali Acc: 0.833 Test Loss: 0.141 Test Acc: 0.979\n",
      "EarlyStopping counter: 1 out of 2\n",
      "Epoch: 4 cost time: 5.115407466888428\n",
      "Epoch: 4, Steps: 50 | Train Loss: 0.086 Vali Loss: 0.412 Vali Acc: 0.917 Test Loss: 0.221 Test Acc: 0.896\n",
      "Validation loss decreased (-0.854167 --> -0.916667).  Saving model ...\n",
      "Epoch: 5 cost time: 5.18462610244751\n",
      "Epoch: 5, Steps: 50 | Train Loss: 0.032 Vali Loss: 0.449 Vali Acc: 0.875 Test Loss: 0.236 Test Acc: 0.917\n",
      "EarlyStopping counter: 1 out of 2\n",
      "Updating learning rate to 6.25e-06\n",
      "Epoch: 6 cost time: 5.100895881652832\n",
      "Epoch: 6, Steps: 50 | Train Loss: 0.018 Vali Loss: 0.159 Vali Acc: 0.938 Test Loss: 0.069 Test Acc: 0.979\n",
      "Validation loss decreased (-0.916667 --> -0.937500).  Saving model ...\n",
      "Epoch: 7 cost time: 5.082393169403076\n",
      "Epoch: 7, Steps: 50 | Train Loss: 0.007 Vali Loss: 0.201 Vali Acc: 0.938 Test Loss: 0.087 Test Acc: 0.979\n",
      "Validation loss decreased (-0.937500 --> -0.937500).  Saving model ...\n",
      "Epoch: 8 cost time: 5.185973882675171\n",
      "Epoch: 8, Steps: 50 | Train Loss: 0.015 Vali Loss: 0.200 Vali Acc: 0.938 Test Loss: 0.084 Test Acc: 0.938\n",
      "Validation loss decreased (-0.937500 --> -0.937500).  Saving model ...\n",
      ">>>>>>>testing : informer_Classification_ftM_sl15000_ll48_pl24_dm16_nh4_el2_dl1_df64_atprob_fc5_ebtimeF_dtTrue_mxTrue_test_1<<<<<<<<<<<<<<<<<<<<<<<<<<<<<<<<<\n",
      "test 50\n",
      "test shape: torch.Size([48, 10]) torch.Size([48])\n",
      "accuracy:0.9375\n"
     ]
    }
   ],
   "source": [
    "\n",
    "import pandas as pd\n",
    "import numpy as np\n",
    "\n",
    "\n",
    "import argparse\n",
    "import os\n",
    "import torch\n",
    "import sys\n",
    "\n",
    "# 改成kaggle路径\n",
    "#sys.path.append(os.path.dirname(__file__))\n",
    "\n",
    "from rope_informer import Exp_Informer\n",
    "\n",
    "parser = argparse.ArgumentParser(description='[Informer] Long Sequences Forecasting')\n",
    "\n",
    "parser.add_argument('--model', type=str, required=False, default='informer',help='model of experiment, options: [informer]')\n",
    "parser.add_argument('--data', type=str, required=False, default='Classification', help='data')\n",
    "parser.add_argument('--root_path', type=str, default= data_path, help='root path of the data file')\n",
    "parser.add_argument('--enc_in', type=int, default=1, help='encoder input size')\n",
    "parser.add_argument('--d_model', type=int, default=16, help='dimension of model') \n",
    "parser.add_argument('--d_ff', type=int, default=64, help='dimension of fcn')\n",
    "parser.add_argument('--train_epochs', type=int, default=8, help='train epochs')\n",
    "parser.add_argument('--batch_size', type=int, default=8, help='batch size of train input data')\n",
    "parser.add_argument('--seq_len', type=int, default=15000, help='input sequence length of Informer encoder')\n",
    "parser.add_argument('--output_path', type=str, default=output_path, help='test_results')\n",
    "parser.add_argument('--checkpoints', type=str, default=checkpoints, help='location of model checkpoints')\n",
    "parser.add_argument('--test_ratio', type=float,default=0.1, help='')\n",
    "parser.add_argument('--n_heads', type=int, default=4, help='num of heads')\n",
    "parser.add_argument('--has_rope', type=bool,default=True, help='')\n",
    "\n",
    "# 以上参数为自定义，以下参数不可修改\n",
    "\n",
    "parser.add_argument('--data_path', type=str, default='ETTh1.csv', help='data file')    \n",
    "parser.add_argument('--features', type=str, default='M', help='forecasting task, options:[M, S, MS]; M:multivariate predict multivariate, S:univariate predict univariate, MS:multivariate predict univariate')\n",
    "parser.add_argument('--target', type=str, default='OT', help='target feature in S or MS task')\n",
    "parser.add_argument('--freq', type=str, default='h', help='freq for time features encoding, options:[s:secondly, t:minutely, h:hourly, d:daily, b:business days, w:weekly, m:monthly], you can also use more detailed freq like 15min or 3h')\n",
    "parser.add_argument('--label_len', type=int, default=48, help='start token length of Informer decoder')\n",
    "parser.add_argument('--pred_len', type=int, default=24, help='prediction sequence length')\n",
    "parser.add_argument('--dec_in', type=int, default=1, help='decoder input size')\n",
    "parser.add_argument('--c_out', type=int, default=7, help='output size')\n",
    "parser.add_argument('--e_layers', type=int, default=2, help='num of encoder layers')\n",
    "parser.add_argument('--d_layers', type=int, default=1, help='num of decoder layers')\n",
    "parser.add_argument('--s_layers', type=str, default='3,2,1', help='num of stack encoder layers')\n",
    "parser.add_argument('--factor', type=int, default=5, help='probsparse attn factor')\n",
    "parser.add_argument('--padding', type=int, default=0, help='padding type')\n",
    "parser.add_argument('--distil', action='store_false', help='whether to use distilling in encoder, using this argument means not using distilling', default=True)\n",
    "parser.add_argument('--dropout', type=float, default=0.05, help='dropout')\n",
    "parser.add_argument('--attn', type=str, default='prob', help='attention used in encoder, options:[prob, full]')\n",
    "parser.add_argument('--embed', type=str, default='timeF', help='time features encoding, options:[timeF, fixed, learned]')\n",
    "parser.add_argument('--activation', type=str, default='gelu',help='activation')\n",
    "parser.add_argument('--output_attention', action='store_true', help='whether to output attention in ecoder')\n",
    "parser.add_argument('--do_predict', action='store_true', help='whether to predict unseen future data')\n",
    "parser.add_argument('--mix', action='store_false', help='use mix attention in generative decoder', default=True)\n",
    "parser.add_argument('--cols', type=str, nargs='+', help='certain cols from the data files as the input features')\n",
    "parser.add_argument('--num_workers', type=int, default=0, help='data loader num workers')\n",
    "parser.add_argument('--itr', type=int, default=1, help='experiments times')\n",
    "parser.add_argument('--patience', type=int, default=2, help='early stopping patience')\n",
    "parser.add_argument('--learning_rate', type=float, default=0.0001, help='optimizer learning rate')\n",
    "parser.add_argument('--des', type=str, default='test',help='exp description')\n",
    "parser.add_argument('--loss', type=str, default='mse',help='loss function')\n",
    "parser.add_argument('--lradj', type=str, default='type1',help='adjust learning rate')\n",
    "parser.add_argument('--use_amp', action='store_true', help='use automatic mixed precision training', default=False)\n",
    "parser.add_argument('--inverse', action='store_true', help='inverse output data', default=False)\n",
    "parser.add_argument('--use_gpu', type=bool, default=True, help='use gpu')\n",
    "parser.add_argument('--gpu', type=int, default=0, help='gpu')\n",
    "parser.add_argument('--use_multi_gpu', action='store_true', help='use multiple gpus', default=False)\n",
    "parser.add_argument('--devices', type=str, default='0,1,2,3',help='device ids of multile gpus')\n",
    "\n",
    "args = parser.parse_known_args()[0]\n",
    "\n",
    "args.use_gpu = True if torch.cuda.is_available() and args.use_gpu else False\n",
    "\n",
    "if args.use_gpu and args.use_multi_gpu:\n",
    "    args.devices = args.devices.replace(' ','')\n",
    "    device_ids = args.devices.split(',')\n",
    "    args.device_ids = [int(id_) for id_ in device_ids]\n",
    "    args.gpu = args.device_ids[0]\n",
    "\n",
    "print('Args in experiment:')\n",
    "print(args)\n",
    "\n",
    "Exp = Exp_Informer\n",
    "torch.manual_seed(111)\n",
    "# for ii in range(args.itr):\n",
    "    # setting record of experiments\n",
    "setting = '{}_{}_ft{}_sl{}_ll{}_pl{}_dm{}_nh{}_el{}_dl{}_df{}_at{}_fc{}_eb{}_dt{}_mx{}_{}_{}'.format(args.model, args.data, args.features, \n",
    "            args.seq_len, args.label_len, args.pred_len,\n",
    "            args.d_model, args.n_heads, args.e_layers, args.d_layers, args.d_ff, args.attn, args.factor, \n",
    "            args.embed, args.distil, args.mix, args.des, 1)\n",
    "\n",
    "exp = Exp(args) # set experiments\n",
    "print('>>>>>>>start training : {}>>>>>>>>>>>>>>>>>>>>>>>>>>'.format(setting))\n",
    "exp.train(setting)\n",
    "\n",
    "print('>>>>>>>testing : {}<<<<<<<<<<<<<<<<<<<<<<<<<<<<<<<<<'.format(setting))\n",
    "exp.test(setting)\n",
    "\n",
    "torch.cuda.empty_cache()\n"
   ]
  },
  {
   "cell_type": "code",
   "execution_count": 7,
   "id": "012412bf",
   "metadata": {
    "execution": {
     "iopub.execute_input": "2024-04-29T09:14:18.986896Z",
     "iopub.status.busy": "2024-04-29T09:14:18.986433Z",
     "iopub.status.idle": "2024-04-29T09:14:19.434960Z",
     "shell.execute_reply": "2024-04-29T09:14:19.434056Z"
    },
    "papermill": {
     "duration": 0.458335,
     "end_time": "2024-04-29T09:14:19.436936",
     "exception": false,
     "start_time": "2024-04-29T09:14:18.978601",
     "status": "completed"
    },
    "tags": []
   },
   "outputs": [
    {
     "data": {
      "image/png": "[encoded data removed]",
      "text/plain": [
       "<Figure size 640x480 with 1 Axes>"
      ]
     },
     "metadata": {},
     "output_type": "display_data"
    }
   ],
   "source": [
    "import matplotlib.pyplot as plt \n",
    "import numpy as np\n",
    "truth = np.load(os.path.join(args.output_path, setting,\"true.npy\"))\n",
    "preds = np.load(os.path.join(args.output_path, setting,\"pred.npy\"))\n",
    "\n",
    "# 计算每个类别的总数和预测正确的数量\n",
    "bin_counts = np.bincount(truth, minlength=10)\n",
    "correct_counts = np.bincount(truth[preds == truth], minlength=10)\n",
    "# 绘制直方图\n",
    "categories = range(10)\n",
    "plt.bar(categories, bin_counts, width=0.5, align='center', alpha=0.8, label='truth',color = 'purple')\n",
    "plt.bar(categories, correct_counts, width=0.5, align='edge', alpha=1.0, label='correct',color = 'lightgreen')\n",
    "plt.xlabel('categories')\n",
    "plt.ylabel('num')\n",
    "plt.xticks(categories)\n",
    "plt.legend()\n",
    "# plt.show()\n",
    "plt.savefig('/kaggle/working/graph.png')"
   ]
  },
  {
   "cell_type": "code",
   "execution_count": null,
   "id": "0c426487",
   "metadata": {
    "papermill": {
     "duration": 0.007002,
     "end_time": "2024-04-29T09:14:19.451250",
     "exception": false,
     "start_time": "2024-04-29T09:14:19.444248",
     "status": "completed"
    },
    "tags": []
   },
   "outputs": [],
   "source": []
  }
 ],
 "metadata": {
  "kaggle": {
   "accelerator": "gpu",
   "dataSources": [
    {
     "datasetId": 4892328,
     "sourceId": 8246183,
     "sourceType": "datasetVersion"
    },
    {
     "datasetId": 4902685,
     "sourceId": 8260361,
     "sourceType": "datasetVersion"
    }
   ],
   "dockerImageVersionId": 30699,
   "isGpuEnabled": true,
   "isInternetEnabled": true,
   "language": "python",
   "sourceType": "notebook"
  },
  "kernelspec": {
   "display_name": "Python 3",
   "language": "python",
   "name": "python3"
  },
  "language_info": {
   "codemirror_mode": {
    "name": "ipython",
    "version": 3
   },
   "file_extension": ".py",
   "mimetype": "text/x-python",
   "name": "python",
   "nbconvert_exporter": "python",
   "pygments_lexer": "ipython3",
   "version": "3.10.13"
  },
  "papermill": {
   "default_parameters": {},
   "duration": 741.451527,
   "end_time": "2024-04-29T09:14:21.966849",
   "environment_variables": {},
   "exception": null,
   "input_path": "__notebook__.ipynb",
   "output_path": "__notebook__.ipynb",
   "parameters": {},
   "start_time": "2024-04-29T09:02:00.515322",
   "version": "2.5.0"
  }
 },
 "nbformat": 4,
 "nbformat_minor": 5
}
